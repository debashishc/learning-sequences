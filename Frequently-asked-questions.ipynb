{
 "cells": [
  {
   "cell_type": "markdown",
   "metadata": {},
   "source": [
    "### What are activation functions, and why are they necessary?\n",
    "Without an activation function like relu (also called a non-linearity), the Dense layer  \n",
    "would consist of two linear operations—a dot product and an addition:  \n",
    "$output = dot(W, input) + b  $  \n",
    "So the layer could only learn linear transformations (affine transformations) of the input data:   \n",
    "the hypothesis space of the layer would be the set of all possible linear transformations of the  \n",
    "input data into a 16-dimensional space. Such a hypothesis space is too restricted and wouldn’t  \n",
    "benefit from multiple layers of representations, because a deep stack of linear layers would still  \n",
    "implement a linear operation: adding more layers wouldn’t extend the hypothesis space. \n",
    "\n",
    "In order to get access to a much richer hypothesis space that would benefit from deep  \n",
    "representations, you need a non-linearity, or activation function. relu is the most popular  \n",
    "activation function in deep learning, but there are many other candi- dates, which all come with  \n",
    "similarly strange names: prelu, elu, and so on."
   ]
  },
  {
   "cell_type": "code",
   "execution_count": null,
   "metadata": {},
   "outputs": [],
   "source": []
  }
 ],
 "metadata": {
  "kernelspec": {
   "display_name": "Python 3",
   "language": "python",
   "name": "python3"
  },
  "language_info": {
   "codemirror_mode": {
    "name": "ipython",
    "version": 3
   },
   "file_extension": ".py",
   "mimetype": "text/x-python",
   "name": "python",
   "nbconvert_exporter": "python",
   "pygments_lexer": "ipython3",
   "version": "3.6.4"
  }
 },
 "nbformat": 4,
 "nbformat_minor": 2
}
