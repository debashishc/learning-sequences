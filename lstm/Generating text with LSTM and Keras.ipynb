{
 "cells": [
  {
   "cell_type": "markdown",
   "metadata": {},
   "source": [
    "The text source is processed to create \n",
    "\n",
    "Used temperature sampling"
   ]
  },
  {
   "cell_type": "code",
   "execution_count": 2,
   "metadata": {},
   "outputs": [],
   "source": [
    "%reload_ext autoreload\n",
    "%matplotlib inline"
   ]
  },
  {
   "cell_type": "code",
   "execution_count": 3,
   "metadata": {},
   "outputs": [
    {
     "name": "stderr",
     "output_type": "stream",
     "text": [
      "/home/admin-u4610248/anaconda3/lib/python3.6/site-packages/h5py/__init__.py:36: FutureWarning: Conversion of the second argument of issubdtype from `float` to `np.floating` is deprecated. In future, it will be treated as `np.float64 == np.dtype(float).type`.\n",
      "  from ._conv import register_converters as _register_converters\n",
      "Using TensorFlow backend.\n"
     ]
    }
   ],
   "source": [
    "%autoreload 2\n",
    "\n",
    "from __future__ import print_function\n",
    "from keras.callbacks import LambdaCallback\n",
    "from keras.models import Sequential\n",
    "from keras.layers import Dense, Activation, LSTM\n",
    "from keras.optimizers import RMSprop\n",
    "from keras.utils.data_utils import get_file\n",
    "import numpy as np\n",
    "import random, sys, io"
   ]
  },
  {
   "cell_type": "code",
   "execution_count": 4,
   "metadata": {},
   "outputs": [
    {
     "name": "stdout",
     "output_type": "stream",
     "text": [
      "text corpus length:  600893\n"
     ]
    }
   ],
   "source": [
    "path = get_file(\n",
    "    'nietzsche.txt', \n",
    "    origin='https://s3.amazonaws.com/text-datasets/nietzsche.txt')\n",
    "# need to get a source of the content\n",
    "\n",
    "with io.open(path, encoding='utf-8') as f:\n",
    "    text = f.read().lower()\n",
    "\n",
    "print('text corpus length: ', len(text))"
   ]
  },
  {
   "cell_type": "code",
   "execution_count": 5,
   "metadata": {},
   "outputs": [
    {
     "name": "stdout",
     "output_type": "stream",
     "text": [
      "\n"
     ]
    }
   ],
   "source": [
    "chars = sorted(list(set(text)))\n",
    "numChars = len(chars)\n",
    "print() # print total number of chars\n",
    "\n",
    "char_indices = { ch : i for i, ch in enumerate(chars)}\n",
    "indices_char = { i : ch for i, ch in enumerate(chars)}\n",
    "# indices_char2 = { i : ch for ch, i in char_indices.items()}\n",
    "# print(char_indices)\n",
    "# print(indices_char1)"
   ]
  },
  {
   "cell_type": "code",
   "execution_count": 6,
   "metadata": {},
   "outputs": [
    {
     "name": "stdout",
     "output_type": "stream",
     "text": [
      "nb seq:  200285\n"
     ]
    }
   ],
   "source": [
    "def create_seq(text, maxLen, step):\n",
    "    sentences = list()\n",
    "    next_chars = list()\n",
    "    for i in range(0, len(text) - maxLen, step):\n",
    "        sentences.append(text[i: i + maxLen])\n",
    "        next_chars.append(text[i + maxLen])\n",
    "    print('nb seq: ', len(sentences))\n",
    "    return sentences, next_chars\n",
    "\n",
    "maxLen = 40\n",
    "step = 3\n",
    "sentences, next_chars = create_seq(text, maxLen, step)\n",
    "# TODO: need to use sentences rather than sequen"
   ]
  },
  {
   "cell_type": "code",
   "execution_count": 7,
   "metadata": {},
   "outputs": [],
   "source": [
    "# Vectorization\n",
    "x = np.zeros( (len(sentences), maxLen, numChars), dtype=np.bool )\n",
    "y = np.zeros( (len(sentences), numChars), dtype=np.bool )\n",
    "\n",
    "for i, sentence in enumerate(sentences):\n",
    "    for t, char in enumerate(sentence):\n",
    "        x[i, t, char_indices[char]] = 1\n",
    "    y[i, char_indices[next_chars[i]]] = 1"
   ]
  },
  {
   "cell_type": "code",
   "execution_count": 8,
   "metadata": {},
   "outputs": [],
   "source": [
    "# model: a single LSTM\n",
    "model = Sequential()\n",
    "model.add(LSTM(units=128, input_shape=(maxLen, numChars)))\n",
    "model.add(Dense(numChars))\n",
    "model.add(Activation('softmax'))"
   ]
  },
  {
   "cell_type": "markdown",
   "metadata": {},
   "source": [
    "### Temperature sampling\n",
    "\n",
    "The temperature is used to divide the predicted log probabilities before applying the softmax. Lower temperature will cause the model to generate more likely sequences; higher temperature will lead to the model making diverse choices, but the model is prone to make more mistakes.\n",
    "\n",
    "[karpathy,char-nn](https://github.com/karpathy/char-rnn)  \n",
    "[stackexchange,temperature-lstm](https://cs.stackexchange.com/questions/79241/what-is-temperature-in-lstm-and-neural-networks-generally)"
   ]
  },
  {
   "cell_type": "code",
   "execution_count": 9,
   "metadata": {},
   "outputs": [
    {
     "name": "stdout",
     "output_type": "stream",
     "text": [
      "2\n"
     ]
    }
   ],
   "source": [
    "# sampling an index from a probability array\n",
    "def sample(preds, temperature=1.0):\n",
    "    preds = np.asarray(preds)\n",
    "    preds = np.log(preds) / temperature\n",
    "    preds = np.exp(preds) / np.sum(np.exp(preds)) # softmax function\n",
    "    probs = np.random.multinomial(1, preds, 1)\n",
    "    return np.argmax(probs)\n",
    "\n",
    "print(sample([0.01, 0.02132,0.1,0.2,0.3]))"
   ]
  },
  {
   "cell_type": "code",
   "execution_count": null,
   "metadata": {},
   "outputs": [],
   "source": [
    "def at_epoch_end(epoch, logs):\n",
    "    print('\\n ---- Generating text after epoch: %d' % epoch)\n",
    "    \n",
    "    start_index = random.randint(0, len(text) - maxLen - 1)\n",
    "    \n",
    "    diversity_range = [0.2, 0.6, 1.0, 1.2]\n",
    "    for temp in diversity_range:\n",
    "        print('---- Diversity:', temp)\n",
    "        \n",
    "        generated = ''\n",
    "        sentence = text[start_index: (start_index + maxLen)]\n",
    "        generated += sentence\n",
    "        \n",
    "        print('----- Generating sequence with seed: \"' + sentence + '\"')\n",
    "        sys.stdout.write(generated)\n",
    "        \n",
    "        for i in range(100):\n",
    "            x_pred = np.zeros((1, maxLen, numChars))\n",
    "            \n",
    "            for t, char in enumerate(sentence):\n",
    "                x_pred[0, t, char_indices[char]] = 1.0\n",
    "                \n",
    "                preds = model.predict(preds)[0] #verbosity default is 0\n",
    "                next_index = sample(preds, temp)\n",
    "                next_char = indices_char(next_index)\n",
    "                \n",
    "                generated += next_char\n",
    "                sentence = sentence[1:] + next_char"
   ]
  },
  {
   "cell_type": "markdown",
   "metadata": {},
   "source": [
    "Need to check out [this](https://machinelearningmastery.com/text-generation-lstm-recurrent-neural-networks-python-keras/)"
   ]
  },
  {
   "cell_type": "code",
   "execution_count": null,
   "metadata": {},
   "outputs": [],
   "source": []
  }
 ],
 "metadata": {
  "kernelspec": {
   "display_name": "Python 3",
   "language": "python",
   "name": "python3"
  },
  "language_info": {
   "codemirror_mode": {
    "name": "ipython",
    "version": 3
   },
   "file_extension": ".py",
   "mimetype": "text/x-python",
   "name": "python",
   "nbconvert_exporter": "python",
   "pygments_lexer": "ipython3",
   "version": "3.6.4"
  }
 },
 "nbformat": 4,
 "nbformat_minor": 2
}
