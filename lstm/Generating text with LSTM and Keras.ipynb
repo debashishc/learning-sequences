{
 "cells": [
  {
   "cell_type": "code",
   "execution_count": 18,
   "metadata": {},
   "outputs": [],
   "source": [
    "from __future__ import print_function\n",
    "from keras.callbacks import LambdaCallback\n",
    "from keras.models import Sequential\n",
    "from keras.layers import Dense, Activation, LSTM\n",
    "from keras.optimizers import RMSprop\n",
    "from keras.utils.data_utils import get_file\n",
    "import numpy as np\n",
    "import random, sys, io"
   ]
  },
  {
   "cell_type": "code",
   "execution_count": 19,
   "metadata": {},
   "outputs": [
    {
     "name": "stdout",
     "output_type": "stream",
     "text": [
      "text corpus length:  600893\n"
     ]
    }
   ],
   "source": [
    "path = get_file(\n",
    "    'nietzsche.txt', \n",
    "    origin='https://s3.amazonaws.com/text-datasets/nietzsche.txt')\n",
    "# need to get a source of the content\n",
    "\n",
    "with io.open(path, encoding='utf-8') as f:\n",
    "    text = f.read().lower()\n",
    "\n",
    "print('text corpus length: ', len(text))"
   ]
  },
  {
   "cell_type": "code",
   "execution_count": 20,
   "metadata": {},
   "outputs": [
    {
     "name": "stdout",
     "output_type": "stream",
     "text": [
      "\n"
     ]
    }
   ],
   "source": [
    "chars = sorted(list(set(text)))\n",
    "numChars = len(chars)\n",
    "print() # print total number of chars\n",
    "\n",
    "char_indices = { ch : i for i, ch in enumerate(chars)}\n",
    "indices_char = { i : ch for i, ch in enumerate(chars)}\n",
    "# indices_char2 = { i : ch for ch, i in char_indices.items()}\n",
    "# print(char_indices)\n",
    "# print(indices_char1)"
   ]
  },
  {
   "cell_type": "code",
   "execution_count": 21,
   "metadata": {},
   "outputs": [
    {
     "name": "stdout",
     "output_type": "stream",
     "text": [
      "nb seq:  200285\n"
     ]
    }
   ],
   "source": [
    "def create_seq(text, maxLen, step):\n",
    "    sentences = list()\n",
    "    next_chars = list()\n",
    "    for i in range(0, len(text) - maxLen, step):\n",
    "        sentences.append(text[i: i + maxLen])\n",
    "        next_chars.append(text[i + maxLen])\n",
    "    print('nb seq: ', len(sentences))\n",
    "    return sentences, next_chars\n",
    "\n",
    "maxLen = 40\n",
    "step = 3\n",
    "sentences, next_chars = create_seq(text, maxLen, step)\n",
    "# TODO: need to use sentences rather than sequen"
   ]
  },
  {
   "cell_type": "code",
   "execution_count": 22,
   "metadata": {},
   "outputs": [],
   "source": [
    "# Vectorization\n",
    "x = np.zeros( (len(sentences), maxLen, numChars), dtype=np.bool )\n",
    "y = np.zeros( (len(sentences), numChars), dtype=np.bool )\n",
    "\n",
    "for i, sentence in enumerate(sentences):\n",
    "    for t, char in enumerate(sentence):\n",
    "        x[i, t, char_indices[char]] = 1\n",
    "    y[i, char_indices[next_chars[i]]] = 1"
   ]
  },
  {
   "cell_type": "code",
   "execution_count": 24,
   "metadata": {},
   "outputs": [],
   "source": [
    "# model: a single LSTM\n",
    "model = Sequential()\n",
    "model.add(LSTM(units=128, input_shape=(maxLen, numChars)))\n",
    "model.add(Dense(numChars))\n",
    "model.add(Activation('softmax'))"
   ]
  },
  {
   "cell_type": "code",
   "execution_count": null,
   "metadata": {},
   "outputs": [],
   "source": []
  }
 ],
 "metadata": {
  "kernelspec": {
   "display_name": "Python 3",
   "language": "python",
   "name": "python3"
  },
  "language_info": {
   "codemirror_mode": {
    "name": "ipython",
    "version": 3
   },
   "file_extension": ".py",
   "mimetype": "text/x-python",
   "name": "python",
   "nbconvert_exporter": "python",
   "pygments_lexer": "ipython3",
   "version": "3.6.4"
  }
 },
 "nbformat": 4,
 "nbformat_minor": 2
}
