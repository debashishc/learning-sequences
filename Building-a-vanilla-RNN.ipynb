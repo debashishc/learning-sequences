{
 "cells": [
  {
   "cell_type": "code",
   "execution_count": 1,
   "metadata": {},
   "outputs": [],
   "source": [
    "import numpy as np"
   ]
  },
  {
   "cell_type": "code",
   "execution_count": null,
   "metadata": {},
   "outputs": [],
   "source": [
    "# Helper functions\n",
    "\n",
    "def softmax(x):\n",
    "    \"\"\"Compute the softmax function for each row of the input x.\n",
    "\n",
    "    Arguments:\n",
    "    x -- A D dimensional vector or N x D dimensional numpy matrix.\n",
    "\n",
    "    Return:\n",
    "    x -- after application of the softmax function\n",
    "    \"\"\"\n",
    "    orig_shape = x.shape\n",
    "\n",
    "    if len(x.shape) > 1:\n",
    "        # x is a matrix\n",
    "        col_max = np.max(x, axis=1)                # find max across columns\n",
    "        x -= np.reshape(col_max, (x.shape[0],1))   # need to reshape matching the initial row size\n",
    "        num = np.exp(x)\n",
    "        denum = np.reshape(np.sum(np.exp(x), axis=1), (x.shape[0], 1)) # need to reshape before division\n",
    "        x = np.divide(num, denum)\n",
    "    else:\n",
    "        # x is a vector\n",
    "        x -= np.max(x)\n",
    "        x = np.divide(np.exp(x), np.sum(np.exp(x)))\n",
    "\n",
    "    assert x.shape == orig_shape\n",
    "    return x\n",
    "\n",
    "\n",
    "def sigmoid(x):\n",
    "    return 1 / (1 + np.exp(-x))"
   ]
  },
  {
   "cell_type": "code",
   "execution_count": null,
   "metadata": {},
   "outputs": [],
   "source": [
    "class RNN:\n",
    "    \n",
    "    def __init__(self):\n",
    "        \n",
    "    \n",
    "    def forward_step(self, x):\n",
    "        \n",
    "        self.h = np.tanh( np.dot(self.W_hh, self.h) + np.dot(W_hx, x)) # + bias_term\n",
    "        y = np.dot( self.W_yh, self.h)"
   ]
  }
 ],
 "metadata": {
  "kernelspec": {
   "display_name": "Python 3",
   "language": "python",
   "name": "python3"
  },
  "language_info": {
   "codemirror_mode": {
    "name": "ipython",
    "version": 3
   },
   "file_extension": ".py",
   "mimetype": "text/x-python",
   "name": "python",
   "nbconvert_exporter": "python",
   "pygments_lexer": "ipython3",
   "version": "3.6.4"
  }
 },
 "nbformat": 4,
 "nbformat_minor": 2
}
